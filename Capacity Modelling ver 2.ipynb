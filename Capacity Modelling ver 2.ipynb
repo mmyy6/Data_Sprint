{
 "cells": [
  {
   "cell_type": "code",
   "execution_count": null,
   "id": "81251511-c12f-47a4-b792-bcfea8fda06d",
   "metadata": {},
   "outputs": [],
   "source": [
    "import pandas as pd\n",
    "import matplotlib.pyplot as plt\n",
    "\n",
    "print('Team 404 FTW')"
   ]
  },
  {
   "cell_type": "code",
   "execution_count": 2,
   "id": "c848e837-0a78-4a2b-964d-291d1957a279",
   "metadata": {},
   "outputs": [],
   "source": [
    "df = pd.read_csv('wind_data.csv')"
   ]
  },
  {
   "cell_type": "code",
   "execution_count": 3,
   "id": "8079e1e2-6207-4435-b319-116865d2d8e6",
   "metadata": {},
   "outputs": [
    {
     "data": {
      "text/html": [
       "<div>\n",
       "<style scoped>\n",
       "    .dataframe tbody tr th:only-of-type {\n",
       "        vertical-align: middle;\n",
       "    }\n",
       "\n",
       "    .dataframe tbody tr th {\n",
       "        vertical-align: top;\n",
       "    }\n",
       "\n",
       "    .dataframe thead th {\n",
       "        text-align: right;\n",
       "    }\n",
       "</style>\n",
       "<table border=\"1\" class=\"dataframe\">\n",
       "  <thead>\n",
       "    <tr style=\"text-align: right;\">\n",
       "      <th></th>\n",
       "      <th>case_id</th>\n",
       "      <th>eia_id</th>\n",
       "      <th>t_state</th>\n",
       "      <th>t_county</th>\n",
       "      <th>t_fips</th>\n",
       "      <th>p_name</th>\n",
       "      <th>p_year</th>\n",
       "      <th>p_tnum</th>\n",
       "      <th>p_cap</th>\n",
       "      <th>t_manu</th>\n",
       "      <th>...</th>\n",
       "      <th>t_rsa</th>\n",
       "      <th>t_ttlh</th>\n",
       "      <th>retrofit</th>\n",
       "      <th>retrofit_year</th>\n",
       "      <th>t_conf_atr</th>\n",
       "      <th>t_conf_loc</th>\n",
       "      <th>t_img_date</th>\n",
       "      <th>t_img_srce</th>\n",
       "      <th>xlong</th>\n",
       "      <th>ylat</th>\n",
       "    </tr>\n",
       "  </thead>\n",
       "  <tbody>\n",
       "    <tr>\n",
       "      <th>0</th>\n",
       "      <td>3072661</td>\n",
       "      <td>52161.0</td>\n",
       "      <td>CA</td>\n",
       "      <td>Kern County</td>\n",
       "      <td>6029</td>\n",
       "      <td>251 Wind</td>\n",
       "      <td>1987.0</td>\n",
       "      <td>194</td>\n",
       "      <td>18.43</td>\n",
       "      <td>Vestas</td>\n",
       "      <td>...</td>\n",
       "      <td>NaN</td>\n",
       "      <td>NaN</td>\n",
       "      <td>0</td>\n",
       "      <td>NaN</td>\n",
       "      <td>2</td>\n",
       "      <td>3</td>\n",
       "      <td>8/5/2018</td>\n",
       "      <td>Digital Globe</td>\n",
       "      <td>-118.363762</td>\n",
       "      <td>35.077908</td>\n",
       "    </tr>\n",
       "    <tr>\n",
       "      <th>1</th>\n",
       "      <td>3072695</td>\n",
       "      <td>52161.0</td>\n",
       "      <td>CA</td>\n",
       "      <td>Kern County</td>\n",
       "      <td>6029</td>\n",
       "      <td>251 Wind</td>\n",
       "      <td>1987.0</td>\n",
       "      <td>194</td>\n",
       "      <td>18.43</td>\n",
       "      <td>Vestas</td>\n",
       "      <td>...</td>\n",
       "      <td>NaN</td>\n",
       "      <td>NaN</td>\n",
       "      <td>0</td>\n",
       "      <td>NaN</td>\n",
       "      <td>2</td>\n",
       "      <td>3</td>\n",
       "      <td>8/5/2018</td>\n",
       "      <td>Digital Globe</td>\n",
       "      <td>-118.364410</td>\n",
       "      <td>35.077435</td>\n",
       "    </tr>\n",
       "    <tr>\n",
       "      <th>2</th>\n",
       "      <td>3072704</td>\n",
       "      <td>52161.0</td>\n",
       "      <td>CA</td>\n",
       "      <td>Kern County</td>\n",
       "      <td>6029</td>\n",
       "      <td>251 Wind</td>\n",
       "      <td>1987.0</td>\n",
       "      <td>194</td>\n",
       "      <td>18.43</td>\n",
       "      <td>Vestas</td>\n",
       "      <td>...</td>\n",
       "      <td>NaN</td>\n",
       "      <td>NaN</td>\n",
       "      <td>0</td>\n",
       "      <td>NaN</td>\n",
       "      <td>2</td>\n",
       "      <td>3</td>\n",
       "      <td>8/5/2018</td>\n",
       "      <td>Digital Globe</td>\n",
       "      <td>-118.364197</td>\n",
       "      <td>35.077644</td>\n",
       "    </tr>\n",
       "    <tr>\n",
       "      <th>3</th>\n",
       "      <td>3063272</td>\n",
       "      <td>NaN</td>\n",
       "      <td>IA</td>\n",
       "      <td>Story County</td>\n",
       "      <td>19169</td>\n",
       "      <td>30 MW Iowa DG Portfolio</td>\n",
       "      <td>2017.0</td>\n",
       "      <td>10</td>\n",
       "      <td>30.00</td>\n",
       "      <td>Nordex</td>\n",
       "      <td>...</td>\n",
       "      <td>12271.85</td>\n",
       "      <td>150.0</td>\n",
       "      <td>0</td>\n",
       "      <td>NaN</td>\n",
       "      <td>3</td>\n",
       "      <td>3</td>\n",
       "      <td>24/4/2017</td>\n",
       "      <td>Digital Globe</td>\n",
       "      <td>-93.430367</td>\n",
       "      <td>42.028233</td>\n",
       "    </tr>\n",
       "    <tr>\n",
       "      <th>4</th>\n",
       "      <td>3053390</td>\n",
       "      <td>NaN</td>\n",
       "      <td>IA</td>\n",
       "      <td>Boone County</td>\n",
       "      <td>19015</td>\n",
       "      <td>30 MW Iowa DG Portfolio</td>\n",
       "      <td>2017.0</td>\n",
       "      <td>10</td>\n",
       "      <td>30.00</td>\n",
       "      <td>Nordex</td>\n",
       "      <td>...</td>\n",
       "      <td>12271.85</td>\n",
       "      <td>150.0</td>\n",
       "      <td>0</td>\n",
       "      <td>NaN</td>\n",
       "      <td>3</td>\n",
       "      <td>3</td>\n",
       "      <td>1/6/2017</td>\n",
       "      <td>Digital Globe</td>\n",
       "      <td>-93.700424</td>\n",
       "      <td>41.977608</td>\n",
       "    </tr>\n",
       "  </tbody>\n",
       "</table>\n",
       "<p>5 rows × 24 columns</p>\n",
       "</div>"
      ],
      "text/plain": [
       "   case_id   eia_id t_state      t_county  t_fips                   p_name  \\\n",
       "0  3072661  52161.0      CA   Kern County    6029                 251 Wind   \n",
       "1  3072695  52161.0      CA   Kern County    6029                 251 Wind   \n",
       "2  3072704  52161.0      CA   Kern County    6029                 251 Wind   \n",
       "3  3063272      NaN      IA  Story County   19169  30 MW Iowa DG Portfolio   \n",
       "4  3053390      NaN      IA  Boone County   19015  30 MW Iowa DG Portfolio   \n",
       "\n",
       "   p_year  p_tnum  p_cap  t_manu  ...     t_rsa  t_ttlh  retrofit  \\\n",
       "0  1987.0     194  18.43  Vestas  ...       NaN     NaN         0   \n",
       "1  1987.0     194  18.43  Vestas  ...       NaN     NaN         0   \n",
       "2  1987.0     194  18.43  Vestas  ...       NaN     NaN         0   \n",
       "3  2017.0      10  30.00  Nordex  ...  12271.85   150.0         0   \n",
       "4  2017.0      10  30.00  Nordex  ...  12271.85   150.0         0   \n",
       "\n",
       "   retrofit_year  t_conf_atr  t_conf_loc  t_img_date     t_img_srce  \\\n",
       "0            NaN           2           3    8/5/2018  Digital Globe   \n",
       "1            NaN           2           3    8/5/2018  Digital Globe   \n",
       "2            NaN           2           3    8/5/2018  Digital Globe   \n",
       "3            NaN           3           3   24/4/2017  Digital Globe   \n",
       "4            NaN           3           3    1/6/2017  Digital Globe   \n",
       "\n",
       "        xlong       ylat  \n",
       "0 -118.363762  35.077908  \n",
       "1 -118.364410  35.077435  \n",
       "2 -118.364197  35.077644  \n",
       "3  -93.430367  42.028233  \n",
       "4  -93.700424  41.977608  \n",
       "\n",
       "[5 rows x 24 columns]"
      ]
     },
     "execution_count": 3,
     "metadata": {},
     "output_type": "execute_result"
    }
   ],
   "source": [
    "df.head(5)\n"
   ]
  },
  {
   "cell_type": "code",
   "execution_count": 4,
   "id": "04df568f-8c7d-4867-aa58-4af105e4af38",
   "metadata": {},
   "outputs": [
    {
     "data": {
      "text/plain": [
       "case_id            int64\n",
       "eia_id           float64\n",
       "t_state           object\n",
       "t_county          object\n",
       "t_fips             int64\n",
       "p_name            object\n",
       "p_year           float64\n",
       "p_tnum             int64\n",
       "p_cap            float64\n",
       "t_manu            object\n",
       "t_model           object\n",
       "t_cap            float64\n",
       "t_hh             float64\n",
       "t_rd             float64\n",
       "t_rsa            float64\n",
       "t_ttlh           float64\n",
       "retrofit           int64\n",
       "retrofit_year    float64\n",
       "t_conf_atr         int64\n",
       "t_conf_loc         int64\n",
       "t_img_date        object\n",
       "t_img_srce        object\n",
       "xlong            float64\n",
       "ylat             float64\n",
       "dtype: object"
      ]
     },
     "execution_count": 4,
     "metadata": {},
     "output_type": "execute_result"
    }
   ],
   "source": [
    "df.dtypes"
   ]
  },
  {
   "cell_type": "code",
   "execution_count": 5,
   "id": "6c99b923-98ac-4bb6-9479-5aa2a99dff38",
   "metadata": {},
   "outputs": [],
   "source": [
    "# set p_year to datetime\n",
    "\n",
    "df['p_year'] = pd.to_datetime(df['p_year'], format='%Y')"
   ]
  },
  {
   "cell_type": "code",
   "execution_count": 7,
   "id": "f578aee9-e404-4d61-8dbf-d0862773282f",
   "metadata": {},
   "outputs": [],
   "source": [
    "# set p_year to index\n",
    "\n",
    "df = df.set_index('p_year')"
   ]
  },
  {
   "cell_type": "code",
   "execution_count": 7,
   "id": "c7152809-7be0-42ee-8cf5-264a84164d0b",
   "metadata": {},
   "outputs": [
    {
     "data": {
      "text/html": [
       "<div>\n",
       "<style scoped>\n",
       "    .dataframe tbody tr th:only-of-type {\n",
       "        vertical-align: middle;\n",
       "    }\n",
       "\n",
       "    .dataframe tbody tr th {\n",
       "        vertical-align: top;\n",
       "    }\n",
       "\n",
       "    .dataframe thead th {\n",
       "        text-align: right;\n",
       "    }\n",
       "</style>\n",
       "<table border=\"1\" class=\"dataframe\">\n",
       "  <thead>\n",
       "    <tr style=\"text-align: right;\">\n",
       "      <th></th>\n",
       "      <th>yearly_cap</th>\n",
       "    </tr>\n",
       "    <tr>\n",
       "      <th>Date</th>\n",
       "      <th></th>\n",
       "    </tr>\n",
       "  </thead>\n",
       "  <tbody>\n",
       "    <tr>\n",
       "      <th>1982-01-01</th>\n",
       "      <td>323.0</td>\n",
       "    </tr>\n",
       "    <tr>\n",
       "      <th>1983-01-01</th>\n",
       "      <td>28080.0</td>\n",
       "    </tr>\n",
       "    <tr>\n",
       "      <th>1984-01-01</th>\n",
       "      <td>10070.0</td>\n",
       "    </tr>\n",
       "    <tr>\n",
       "      <th>1985-01-01</th>\n",
       "      <td>25025.0</td>\n",
       "    </tr>\n",
       "    <tr>\n",
       "      <th>1986-01-01</th>\n",
       "      <td>8600.0</td>\n",
       "    </tr>\n",
       "  </tbody>\n",
       "</table>\n",
       "</div>"
      ],
      "text/plain": [
       "            yearly_cap\n",
       "Date                  \n",
       "1982-01-01       323.0\n",
       "1983-01-01     28080.0\n",
       "1984-01-01     10070.0\n",
       "1985-01-01     25025.0\n",
       "1986-01-01      8600.0"
      ]
     },
     "execution_count": 7,
     "metadata": {},
     "output_type": "execute_result"
    }
   ],
   "source": [
    "# aggregate by year\n",
    "cap_df = df.groupby('p_year')['t_cap'].agg(['sum'])\n",
    "\n",
    "# rename 'sum' to 'total_cap\n",
    "cap_df = cap_df.rename(columns={'sum': 'yearly_cap'})\n",
    "\n",
    "# rename index to 'year'\n",
    "cap_df = cap_df.rename_axis('Date')\n",
    "\n",
    "cap_df.head()"
   ]
  },
  {
   "cell_type": "code",
   "execution_count": 9,
   "id": "bb9ebf83-bec3-4590-a5ca-c9016d01743a",
   "metadata": {},
   "outputs": [],
   "source": [
    "# create new column with cumulative total of capactiy\n",
    "\n",
    "cap_df['cumulative_total'] = cap_df.cumsum()"
   ]
  },
  {
   "cell_type": "code",
   "execution_count": 10,
   "id": "2aab594c-60b8-41d0-af7b-1ea3e569f661",
   "metadata": {},
   "outputs": [
    {
     "data": {
      "text/html": [
       "<div>\n",
       "<style scoped>\n",
       "    .dataframe tbody tr th:only-of-type {\n",
       "        vertical-align: middle;\n",
       "    }\n",
       "\n",
       "    .dataframe tbody tr th {\n",
       "        vertical-align: top;\n",
       "    }\n",
       "\n",
       "    .dataframe thead th {\n",
       "        text-align: right;\n",
       "    }\n",
       "</style>\n",
       "<table border=\"1\" class=\"dataframe\">\n",
       "  <thead>\n",
       "    <tr style=\"text-align: right;\">\n",
       "      <th></th>\n",
       "      <th>yearly_cap</th>\n",
       "      <th>cumulative_total</th>\n",
       "    </tr>\n",
       "    <tr>\n",
       "      <th>Date</th>\n",
       "      <th></th>\n",
       "      <th></th>\n",
       "    </tr>\n",
       "  </thead>\n",
       "  <tbody>\n",
       "    <tr>\n",
       "      <th>2017-01-01</th>\n",
       "      <td>7009520.0</td>\n",
       "      <td>86926501.0</td>\n",
       "    </tr>\n",
       "    <tr>\n",
       "      <th>2018-01-01</th>\n",
       "      <td>7408935.0</td>\n",
       "      <td>94335436.0</td>\n",
       "    </tr>\n",
       "    <tr>\n",
       "      <th>2019-01-01</th>\n",
       "      <td>9091115.0</td>\n",
       "      <td>103426551.0</td>\n",
       "    </tr>\n",
       "    <tr>\n",
       "      <th>2020-01-01</th>\n",
       "      <td>17286530.0</td>\n",
       "      <td>120713081.0</td>\n",
       "    </tr>\n",
       "    <tr>\n",
       "      <th>2021-01-01</th>\n",
       "      <td>6457030.0</td>\n",
       "      <td>127170111.0</td>\n",
       "    </tr>\n",
       "  </tbody>\n",
       "</table>\n",
       "</div>"
      ],
      "text/plain": [
       "            yearly_cap  cumulative_total\n",
       "Date                                    \n",
       "2017-01-01   7009520.0        86926501.0\n",
       "2018-01-01   7408935.0        94335436.0\n",
       "2019-01-01   9091115.0       103426551.0\n",
       "2020-01-01  17286530.0       120713081.0\n",
       "2021-01-01   6457030.0       127170111.0"
      ]
     },
     "execution_count": 10,
     "metadata": {},
     "output_type": "execute_result"
    }
   ],
   "source": [
    "cap_df.tail()"
   ]
  },
  {
   "cell_type": "code",
   "execution_count": 11,
   "id": "fa48092f-9ccb-414a-8e02-7e0ece3d6df2",
   "metadata": {},
   "outputs": [],
   "source": [
    "# drop 'yearly cap' column\n",
    "\n",
    "cap_df.drop('yearly_cap', axis=1, inplace = True)"
   ]
  },
  {
   "cell_type": "code",
   "execution_count": 16,
   "id": "6c3a4776-c0a2-48f6-b45d-7420534f4509",
   "metadata": {},
   "outputs": [
    {
     "data": {
      "text/html": [
       "<div>\n",
       "<style scoped>\n",
       "    .dataframe tbody tr th:only-of-type {\n",
       "        vertical-align: middle;\n",
       "    }\n",
       "\n",
       "    .dataframe tbody tr th {\n",
       "        vertical-align: top;\n",
       "    }\n",
       "\n",
       "    .dataframe thead th {\n",
       "        text-align: right;\n",
       "    }\n",
       "</style>\n",
       "<table border=\"1\" class=\"dataframe\">\n",
       "  <thead>\n",
       "    <tr style=\"text-align: right;\">\n",
       "      <th></th>\n",
       "      <th>cumulative_total</th>\n",
       "    </tr>\n",
       "  </thead>\n",
       "  <tbody>\n",
       "    <tr>\n",
       "      <th>2016-12-31</th>\n",
       "      <td>86926501.0</td>\n",
       "    </tr>\n",
       "    <tr>\n",
       "      <th>2017-12-31</th>\n",
       "      <td>94335436.0</td>\n",
       "    </tr>\n",
       "    <tr>\n",
       "      <th>2018-12-31</th>\n",
       "      <td>103426551.0</td>\n",
       "    </tr>\n",
       "    <tr>\n",
       "      <th>2019-12-31</th>\n",
       "      <td>120713081.0</td>\n",
       "    </tr>\n",
       "    <tr>\n",
       "      <th>2020-12-31</th>\n",
       "      <td>127170111.0</td>\n",
       "    </tr>\n",
       "  </tbody>\n",
       "</table>\n",
       "</div>"
      ],
      "text/plain": [
       "            cumulative_total\n",
       "2016-12-31        86926501.0\n",
       "2017-12-31        94335436.0\n",
       "2018-12-31       103426551.0\n",
       "2019-12-31       120713081.0\n",
       "2020-12-31       127170111.0"
      ]
     },
     "execution_count": 16,
     "metadata": {},
     "output_type": "execute_result"
    }
   ],
   "source": [
    "# set frequency of index to yearly\n",
    "\n",
    "cap_df.index = pd.date_range(start = cap_df.index.min(), end = cap_df.index.max(), freq='Y')\n",
    "\n",
    "cap_df.tail()"
   ]
  },
  {
   "cell_type": "code",
   "execution_count": 48,
   "id": "a2bfa648-b2f9-4f0e-85bc-b1a1c3e2a802",
   "metadata": {},
   "outputs": [
    {
     "data": {
      "text/html": [
       "<div>\n",
       "<style scoped>\n",
       "    .dataframe tbody tr th:only-of-type {\n",
       "        vertical-align: middle;\n",
       "    }\n",
       "\n",
       "    .dataframe tbody tr th {\n",
       "        vertical-align: top;\n",
       "    }\n",
       "\n",
       "    .dataframe thead th {\n",
       "        text-align: right;\n",
       "    }\n",
       "</style>\n",
       "<table border=\"1\" class=\"dataframe\">\n",
       "  <thead>\n",
       "    <tr style=\"text-align: right;\">\n",
       "      <th></th>\n",
       "      <th>cumulative_total</th>\n",
       "    </tr>\n",
       "  </thead>\n",
       "  <tbody>\n",
       "    <tr>\n",
       "      <th>2015-12-31</th>\n",
       "      <td>79916981.0</td>\n",
       "    </tr>\n",
       "    <tr>\n",
       "      <th>2016-12-31</th>\n",
       "      <td>86926501.0</td>\n",
       "    </tr>\n",
       "    <tr>\n",
       "      <th>2017-12-31</th>\n",
       "      <td>94335436.0</td>\n",
       "    </tr>\n",
       "    <tr>\n",
       "      <th>2018-12-31</th>\n",
       "      <td>103426551.0</td>\n",
       "    </tr>\n",
       "    <tr>\n",
       "      <th>2019-12-31</th>\n",
       "      <td>120713081.0</td>\n",
       "    </tr>\n",
       "    <tr>\n",
       "      <th>2020-12-31</th>\n",
       "      <td>127170111.0</td>\n",
       "    </tr>\n",
       "  </tbody>\n",
       "</table>\n",
       "</div>"
      ],
      "text/plain": [
       "            cumulative_total\n",
       "2015-12-31        79916981.0\n",
       "2016-12-31        86926501.0\n",
       "2017-12-31        94335436.0\n",
       "2018-12-31       103426551.0\n",
       "2019-12-31       120713081.0\n",
       "2020-12-31       127170111.0"
      ]
     },
     "execution_count": 48,
     "metadata": {},
     "output_type": "execute_result"
    }
   ],
   "source": [
    "# create train test split\n",
    "\n",
    "train = cap_df['1982-12-31':'2014-12-31']\n",
    "test = cap_df['2015-12-31':'2020-12-31']\n",
    "\n",
    "test"
   ]
  },
  {
   "cell_type": "code",
   "execution_count": 52,
   "id": "9e90e6bd-1577-46bd-937f-3a4cec976085",
   "metadata": {},
   "outputs": [
    {
     "data": {
      "text/html": [
       "<div>\n",
       "<style scoped>\n",
       "    .dataframe tbody tr th:only-of-type {\n",
       "        vertical-align: middle;\n",
       "    }\n",
       "\n",
       "    .dataframe tbody tr th {\n",
       "        vertical-align: top;\n",
       "    }\n",
       "\n",
       "    .dataframe thead th {\n",
       "        text-align: right;\n",
       "    }\n",
       "</style>\n",
       "<table border=\"1\" class=\"dataframe\">\n",
       "  <thead>\n",
       "    <tr style=\"text-align: right;\">\n",
       "      <th></th>\n",
       "      <th>cumulative_total</th>\n",
       "    </tr>\n",
       "  </thead>\n",
       "  <tbody>\n",
       "    <tr>\n",
       "      <th>2010-12-31</th>\n",
       "      <td>44412693.0</td>\n",
       "    </tr>\n",
       "    <tr>\n",
       "      <th>2011-12-31</th>\n",
       "      <td>57361913.0</td>\n",
       "    </tr>\n",
       "    <tr>\n",
       "      <th>2012-12-31</th>\n",
       "      <td>58450738.0</td>\n",
       "    </tr>\n",
       "    <tr>\n",
       "      <th>2013-12-31</th>\n",
       "      <td>63233476.0</td>\n",
       "    </tr>\n",
       "    <tr>\n",
       "      <th>2014-12-31</th>\n",
       "      <td>71808134.0</td>\n",
       "    </tr>\n",
       "  </tbody>\n",
       "</table>\n",
       "</div>"
      ],
      "text/plain": [
       "            cumulative_total\n",
       "2010-12-31        44412693.0\n",
       "2011-12-31        57361913.0\n",
       "2012-12-31        58450738.0\n",
       "2013-12-31        63233476.0\n",
       "2014-12-31        71808134.0"
      ]
     },
     "execution_count": 52,
     "metadata": {},
     "output_type": "execute_result"
    }
   ],
   "source": [
    "train.tail()"
   ]
  },
  {
   "cell_type": "code",
   "execution_count": 26,
   "id": "c06a933c-747e-42d1-9930-1567106a5e00",
   "metadata": {},
   "outputs": [],
   "source": [
    "from statsmodels.tsa.arima.model import ARIMA"
   ]
  },
  {
   "cell_type": "code",
   "execution_count": 53,
   "id": "f3b208a0-60f1-4515-a935-d45f2cc54d6f",
   "metadata": {},
   "outputs": [
    {
     "data": {
      "text/plain": [
       "<matplotlib.legend.Legend at 0x18f99d2fd00>"
      ]
     },
     "execution_count": 53,
     "metadata": {},
     "output_type": "execute_result"
    },
    {
     "data": {
      "image/png": "[encoded data removed]",
      "text/plain": [
       "<Figure size 640x480 with 1 Axes>"
      ]
     },
     "metadata": {},
     "output_type": "display_data"
    }
   ],
   "source": [
    "# plot train test split\n",
    "\n",
    "fig, ax = plt.subplots()\n",
    "\n",
    "train.plot(ax = ax, label = 'train')\n",
    "test.plot(ax = ax, label = 'test')\n",
    "\n",
    "ax.legend()"
   ]
  },
  {
   "cell_type": "code",
   "execution_count": 68,
   "id": "bfd9616a-7de0-4aa5-8351-c35f13ccdc5a",
   "metadata": {},
   "outputs": [],
   "source": [
    "model = ARIMA(train, order = (1, 3, 7)).fit()\n",
    "\n",
    "y_pred = model.predict(start = '2015-12-31', end = '2020-12-31')"
   ]
  },
  {
   "cell_type": "code",
   "execution_count": 69,
   "id": "19cdbc5c-bbfe-4a8f-8a44-fc881c0f3c7f",
   "metadata": {},
   "outputs": [
    {
     "data": {
      "text/plain": [
       "<function matplotlib.pyplot.show(close=None, block=None)>"
      ]
     },
     "execution_count": 69,
     "metadata": {},
     "output_type": "execute_result"
    },
    {
     "data": {
      "image/png": "[encoded data removed]",
      "text/plain": [
       "<Figure size 800x600 with 1 Axes>"
      ]
     },
     "metadata": {},
     "output_type": "display_data"
    }
   ],
   "source": [
    "fig, ax = plt.subplots(figsize = (8, 6))\n",
    "                       \n",
    "train.plot(ax = ax, label = 'train')\n",
    "test.plot(ax = ax, label = 'test')\n",
    "y_pred.plot(ax = ax, label = 'ARIMA forecast')\n",
    "ax.legend()\n",
    "\n",
    "plt.show"
   ]
  },
  {
   "cell_type": "code",
   "execution_count": 56,
   "id": "f61a6a4a-dfbe-45a1-a3f9-bc752016faff",
   "metadata": {},
   "outputs": [
    {
     "name": "stdout",
     "output_type": "stream",
     "text": [
      "ARIMA(1,0,1) RMSE: 35432809.44237062\n"
     ]
    }
   ],
   "source": [
    "import numpy as np\n",
    "import warnings\n",
    "\n",
    "from sklearn.metrics import mean_squared_error\n",
    "\n",
    "print(f'ARIMA(1,0,1) RMSE: {np.sqrt(mean_squared_error(test, y_pred))}')"
   ]
  },
  {
   "cell_type": "code",
   "execution_count": 65,
   "id": "7f041d09-3585-44fd-a8d2-8eb1d3f393e4",
   "metadata": {},
   "outputs": [
    {
     "data": {
      "text/plain": [
       "[2162963.1190708876, 1, 3, 7]"
      ]
     },
     "execution_count": 65,
     "metadata": {},
     "output_type": "execute_result"
    }
   ],
   "source": [
    "rmse_max = 10000000000\n",
    "\n",
    "# Ignore warnings\n",
    "warnings.filterwarnings(\"ignore\")\n",
    "\n",
    "best_value = []\n",
    "for p in range(10):\n",
    "    for d in range(5):\n",
    "        for q in range(10):\n",
    "            try:\n",
    "                model = ARIMA(train, order=(p, d, q)).fit()\n",
    "                y_pred = model.predict(start = '2015-12-31', end = '2020-12-31')\n",
    "                rmse = np.sqrt(mean_squared_error(test, y_pred))\n",
    "                if rmse < rmse_max:\n",
    "                    rmse_max = rmse\n",
    "                    best_value = [rmse, p, d, q]\n",
    "            except:\n",
    "                pass\n",
    "\n",
    "best_value"
   ]
  },
  {
   "cell_type": "code",
   "execution_count": 62,
   "id": "b3186441-b3fc-4c84-9074-f3af8219b39d",
   "metadata": {},
   "outputs": [],
   "source": [
    "pred_model = ARIMA(cap_df, order = (1, 3, 7)).fit()\n",
    "\n",
    "y_pred_future = pred_model.predict(start = '2021-12-31', end = '2025-12-31')"
   ]
  },
  {
   "cell_type": "code",
   "execution_count": 63,
   "id": "ed345452-c578-4e60-8322-9636f99bd087",
   "metadata": {},
   "outputs": [
    {
     "data": {
      "image/png": "[encoded data removed]",
      "text/plain": [
       "<Figure size 800x600 with 1 Axes>"
      ]
     },
     "metadata": {},
     "output_type": "display_data"
    }
   ],
   "source": [
    "fig, ax = plt.subplots(figsize = (8, 6))\n",
    "                       \n",
    "cap_df.plot(ax = ax)\n",
    "y_pred_future.plot(ax = ax, label = 'ARIMA forecast', color = 'green')\n",
    "ax.legend()\n",
    "\n",
    "plt.show;"
   ]
  },
  {
   "cell_type": "code",
   "execution_count": 64,
   "id": "031a1fa5-4664-4a4b-bf5c-d117fe7614f2",
   "metadata": {},
   "outputs": [
    {
     "data": {
      "text/plain": [
       "2021-12-31    1.387043e+08\n",
       "2022-12-31    1.546109e+08\n",
       "2023-12-31    1.669820e+08\n",
       "2024-12-31    1.789343e+08\n",
       "2025-12-31    1.946043e+08\n",
       "Freq: A-DEC, Name: predicted_mean, dtype: float64"
      ]
     },
     "execution_count": 64,
     "metadata": {},
     "output_type": "execute_result"
    }
   ],
   "source": [
    "y_pred_future"
   ]
  }
 ],
 "metadata": {
  "kernelspec": {
   "display_name": "Python 3 (ipykernel)",
   "language": "python",
   "name": "python3"
  },
  "language_info": {
   "codemirror_mode": {
    "name": "ipython",
    "version": 3
   },
   "file_extension": ".py",
   "mimetype": "text/x-python",
   "name": "python",
   "nbconvert_exporter": "python",
   "pygments_lexer": "ipython3",
   "version": "3.10.9"
  }
 },
 "nbformat": 4,
 "nbformat_minor": 5
}
